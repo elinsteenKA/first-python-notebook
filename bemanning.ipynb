{
 "cells": [
  {
   "cell_type": "code",
   "execution_count": 2,
   "metadata": {
    "collapsed": true
   },
   "outputs": [],
   "source": [
    "import pandas as pd"
   ]
  },
  {
   "cell_type": "code",
   "execution_count": 3,
   "metadata": {
    "collapsed": true
   },
   "outputs": [
    {
     "data": {
      "text/plain": [
       "4"
      ]
     },
     "execution_count": 3,
     "metadata": {},
     "output_type": "execute_result"
    }
   ],
   "source": [
    "2+2"
   ]
  },
  {
   "cell_type": "code",
   "execution_count": 4,
   "metadata": {
    "collapsed": true
   },
   "outputs": [],
   "source": [
    "number = 2"
   ]
  },
  {
   "cell_type": "code",
   "execution_count": 5,
   "metadata": {
    "collapsed": true
   },
   "outputs": [
    {
     "data": {
      "text/plain": [
       "5"
      ]
     },
     "execution_count": 5,
     "metadata": {},
     "output_type": "execute_result"
    }
   ],
   "source": [
    "number + 3"
   ]
  },
  {
   "cell_type": "code",
   "execution_count": 6,
   "metadata": {
    "collapsed": true
   },
   "outputs": [],
   "source": [
    "my_list = [2, 4, 6, 8]"
   ]
  },
  {
   "cell_type": "code",
   "execution_count": 7,
   "metadata": {
    "collapsed": true
   },
   "outputs": [],
   "source": [
    "my_series = pd.Series(my_list)"
   ]
  },
  {
   "cell_type": "code",
   "execution_count": 8,
   "metadata": {
    "collapsed": true
   },
   "outputs": [
    {
     "data": {
      "text/plain": [
       "20"
      ]
     },
     "execution_count": 8,
     "metadata": {},
     "output_type": "execute_result"
    }
   ],
   "source": [
    "my_series.sum()"
   ]
  },
  {
   "cell_type": "code",
   "execution_count": 9,
   "metadata": {
    "collapsed": true
   },
   "outputs": [
    {
     "data": {
      "text/plain": [
       "8"
      ]
     },
     "execution_count": 9,
     "metadata": {},
     "output_type": "execute_result"
    }
   ],
   "source": [
    "my_series.max()"
   ]
  },
  {
   "cell_type": "code",
   "execution_count": 10,
   "metadata": {
    "collapsed": true
   },
   "outputs": [
    {
     "data": {
      "text/plain": [
       "2"
      ]
     },
     "execution_count": 10,
     "metadata": {},
     "output_type": "execute_result"
    }
   ],
   "source": [
    "my_series.min()"
   ]
  },
  {
   "cell_type": "code",
   "execution_count": 11,
   "metadata": {
    "collapsed": true
   },
   "outputs": [
    {
     "data": {
      "text/plain": [
       "5.0"
      ]
     },
     "execution_count": 11,
     "metadata": {},
     "output_type": "execute_result"
    }
   ],
   "source": [
    "my_series.mean()"
   ]
  },
  {
   "cell_type": "code",
   "execution_count": 12,
   "metadata": {
    "collapsed": true
   },
   "outputs": [
    {
     "data": {
      "text/plain": [
       "5.0"
      ]
     },
     "execution_count": 12,
     "metadata": {},
     "output_type": "execute_result"
    }
   ],
   "source": [
    "my_series.median()"
   ]
  },
  {
   "cell_type": "code",
   "execution_count": 13,
   "metadata": {
    "collapsed": true
   },
   "outputs": [
    {
     "data": {
      "text/plain": [
       "2.5819888974716112"
      ]
     },
     "execution_count": 13,
     "metadata": {},
     "output_type": "execute_result"
    }
   ],
   "source": [
    "my_series.std()"
   ]
  },
  {
   "cell_type": "code",
   "execution_count": 14,
   "metadata": {
    "collapsed": true
   },
   "outputs": [
    {
     "data": {
      "text/plain": [
       "count    4.000000\n",
       "mean     5.000000\n",
       "std      2.581989\n",
       "min      2.000000\n",
       "25%      3.500000\n",
       "50%      5.000000\n",
       "75%      6.500000\n",
       "max      8.000000\n",
       "dtype: float64"
      ]
     },
     "execution_count": 14,
     "metadata": {},
     "output_type": "execute_result"
    }
   ],
   "source": [
    "my_series.describe()"
   ]
  },
  {
   "cell_type": "code",
   "execution_count": 15,
   "metadata": {
    "collapsed": true
   },
   "outputs": [],
   "source": [
    "props = pd.read_csv(\"http://www.firstpythonnotebook.org/_static/committees.csv\")"
   ]
  },
  {
   "cell_type": "code",
   "execution_count": 16,
   "metadata": {
    "collapsed": true
   },
   "outputs": [
    {
     "data": {
      "text/html": [
       "<div>\n",
       "<style>\n",
       "    .dataframe thead tr:only-child th {\n",
       "        text-align: right;\n",
       "    }\n",
       "\n",
       "    .dataframe thead th {\n",
       "        text-align: left;\n",
       "    }\n",
       "\n",
       "    .dataframe tbody tr th {\n",
       "        vertical-align: top;\n",
       "    }\n",
       "</style>\n",
       "<table border=\"1\" class=\"dataframe\">\n",
       "  <thead>\n",
       "    <tr style=\"text-align: right;\">\n",
       "      <th></th>\n",
       "      <th>ocd_prop_id</th>\n",
       "      <th>calaccess_prop_id</th>\n",
       "      <th>ccdc_prop_id</th>\n",
       "      <th>prop_name</th>\n",
       "      <th>ccdc_committee_id</th>\n",
       "      <th>calaccess_committee_id</th>\n",
       "      <th>committee_name</th>\n",
       "      <th>committee_position</th>\n",
       "    </tr>\n",
       "  </thead>\n",
       "  <tbody>\n",
       "    <tr>\n",
       "      <th>0</th>\n",
       "      <td>ocd-contest/b51dc64d-3562-4913-a190-69f5088c22a6</td>\n",
       "      <td>1376258</td>\n",
       "      <td>70</td>\n",
       "      <td>PROPOSITION 051 - SCHOOL BONDS. FUNDING FOR K-...</td>\n",
       "      <td>382</td>\n",
       "      <td>1374469</td>\n",
       "      <td>YES ON PROPOSITION 51 - CALIFORNIANS FOR QUALI...</td>\n",
       "      <td>SUPPORT</td>\n",
       "    </tr>\n",
       "    <tr>\n",
       "      <th>1</th>\n",
       "      <td>ocd-contest/b51dc64d-3562-4913-a190-69f5088c22a6</td>\n",
       "      <td>1376258</td>\n",
       "      <td>70</td>\n",
       "      <td>PROPOSITION 051 - SCHOOL BONDS. FUNDING FOR K-...</td>\n",
       "      <td>383</td>\n",
       "      <td>1220380</td>\n",
       "      <td>COMMUNITY COLLEGE FACILITY COALITION ISSUES CO...</td>\n",
       "      <td>SUPPORT</td>\n",
       "    </tr>\n",
       "    <tr>\n",
       "      <th>2</th>\n",
       "      <td>ocd-contest/b51dc64d-3562-4913-a190-69f5088c22a6</td>\n",
       "      <td>1376258</td>\n",
       "      <td>70</td>\n",
       "      <td>PROPOSITION 051 - SCHOOL BONDS. FUNDING FOR K-...</td>\n",
       "      <td>384</td>\n",
       "      <td>1282321</td>\n",
       "      <td>TORLAKSON'S INVEST IN CALIFORNIA A BALLOT MEAS...</td>\n",
       "      <td>SUPPORT</td>\n",
       "    </tr>\n",
       "    <tr>\n",
       "      <th>3</th>\n",
       "      <td>ocd-contest/b51dc64d-3562-4913-a190-69f5088c22a6</td>\n",
       "      <td>1376258</td>\n",
       "      <td>70</td>\n",
       "      <td>PROPOSITION 051 - SCHOOL BONDS. FUNDING FOR K-...</td>\n",
       "      <td>385</td>\n",
       "      <td>1382843</td>\n",
       "      <td>CALIFORNIA TAXPAYERS AND EDUCATORS OPPOSED TO ...</td>\n",
       "      <td>OPPOSE</td>\n",
       "    </tr>\n",
       "    <tr>\n",
       "      <th>4</th>\n",
       "      <td>ocd-contest/85990193-9d6f-4600-b8e7-bf1317841d82</td>\n",
       "      <td>1362198</td>\n",
       "      <td>71</td>\n",
       "      <td>PROPOSITION 052 - STATE FEES ON HOSPITALS. FED...</td>\n",
       "      <td>386</td>\n",
       "      <td>1362973</td>\n",
       "      <td>YES ON PROPOSITION 52 - A COALITION OF CALIFOR...</td>\n",
       "      <td>SUPPORT</td>\n",
       "    </tr>\n",
       "  </tbody>\n",
       "</table>\n",
       "</div>"
      ],
      "text/plain": [
       "                                        ocd_prop_id  calaccess_prop_id  \\\n",
       "0  ocd-contest/b51dc64d-3562-4913-a190-69f5088c22a6            1376258   \n",
       "1  ocd-contest/b51dc64d-3562-4913-a190-69f5088c22a6            1376258   \n",
       "2  ocd-contest/b51dc64d-3562-4913-a190-69f5088c22a6            1376258   \n",
       "3  ocd-contest/b51dc64d-3562-4913-a190-69f5088c22a6            1376258   \n",
       "4  ocd-contest/85990193-9d6f-4600-b8e7-bf1317841d82            1362198   \n",
       "\n",
       "   ccdc_prop_id                                          prop_name  \\\n",
       "0            70  PROPOSITION 051 - SCHOOL BONDS. FUNDING FOR K-...   \n",
       "1            70  PROPOSITION 051 - SCHOOL BONDS. FUNDING FOR K-...   \n",
       "2            70  PROPOSITION 051 - SCHOOL BONDS. FUNDING FOR K-...   \n",
       "3            70  PROPOSITION 051 - SCHOOL BONDS. FUNDING FOR K-...   \n",
       "4            71  PROPOSITION 052 - STATE FEES ON HOSPITALS. FED...   \n",
       "\n",
       "   ccdc_committee_id  calaccess_committee_id  \\\n",
       "0                382                 1374469   \n",
       "1                383                 1220380   \n",
       "2                384                 1282321   \n",
       "3                385                 1382843   \n",
       "4                386                 1362973   \n",
       "\n",
       "                                      committee_name committee_position  \n",
       "0  YES ON PROPOSITION 51 - CALIFORNIANS FOR QUALI...            SUPPORT  \n",
       "1  COMMUNITY COLLEGE FACILITY COALITION ISSUES CO...            SUPPORT  \n",
       "2  TORLAKSON'S INVEST IN CALIFORNIA A BALLOT MEAS...            SUPPORT  \n",
       "3  CALIFORNIA TAXPAYERS AND EDUCATORS OPPOSED TO ...             OPPOSE  \n",
       "4  YES ON PROPOSITION 52 - A COALITION OF CALIFOR...            SUPPORT  "
      ]
     },
     "execution_count": 16,
     "metadata": {},
     "output_type": "execute_result"
    }
   ],
   "source": [
    "props.head()"
   ]
  },
  {
   "cell_type": "code",
   "execution_count": 17,
   "metadata": {
    "collapsed": true
   },
   "outputs": [
    {
     "name": "stdout",
     "output_type": "stream",
     "text": [
      "<class 'pandas.core.frame.DataFrame'>\n",
      "RangeIndex: 102 entries, 0 to 101\n",
      "Data columns (total 8 columns):\n",
      "ocd_prop_id               102 non-null object\n",
      "calaccess_prop_id         102 non-null int64\n",
      "ccdc_prop_id              102 non-null int64\n",
      "prop_name                 102 non-null object\n",
      "ccdc_committee_id         102 non-null int64\n",
      "calaccess_committee_id    102 non-null int64\n",
      "committee_name            102 non-null object\n",
      "committee_position        102 non-null object\n",
      "dtypes: int64(4), object(4)\n",
      "memory usage: 6.4+ KB\n"
     ]
    }
   ],
   "source": [
    "props.info()"
   ]
  },
  {
   "cell_type": "code",
   "execution_count": 18,
   "metadata": {
    "collapsed": true
   },
   "outputs": [],
   "source": [
    "contribs = pd.read_csv(\"http://www.firstpythonnotebook.org/_static/contributions.csv\")"
   ]
  },
  {
   "cell_type": "code",
   "execution_count": 19,
   "metadata": {
    "collapsed": true
   },
   "outputs": [
    {
     "data": {
      "text/html": [
       "<div>\n",
       "<style>\n",
       "    .dataframe thead tr:only-child th {\n",
       "        text-align: right;\n",
       "    }\n",
       "\n",
       "    .dataframe thead th {\n",
       "        text-align: left;\n",
       "    }\n",
       "\n",
       "    .dataframe tbody tr th {\n",
       "        vertical-align: top;\n",
       "    }\n",
       "</style>\n",
       "<table border=\"1\" class=\"dataframe\">\n",
       "  <thead>\n",
       "    <tr style=\"text-align: right;\">\n",
       "      <th></th>\n",
       "      <th>calaccess_committee_id</th>\n",
       "      <th>committee_name</th>\n",
       "      <th>calaccess_filing_id</th>\n",
       "      <th>date_received</th>\n",
       "      <th>contributor_lastname</th>\n",
       "      <th>contributor_firstname</th>\n",
       "      <th>contributor_city</th>\n",
       "      <th>contributor_state</th>\n",
       "      <th>contributor_zip</th>\n",
       "      <th>contributor_employer</th>\n",
       "      <th>contributor_occupation</th>\n",
       "      <th>contributor_is_self_employed</th>\n",
       "      <th>amount</th>\n",
       "    </tr>\n",
       "  </thead>\n",
       "  <tbody>\n",
       "    <tr>\n",
       "      <th>0</th>\n",
       "      <td>1386560</td>\n",
       "      <td>ADULT USE CAMPAIGN FOR PROPOSITION 64; THE</td>\n",
       "      <td>2083796</td>\n",
       "      <td>2016-09-18</td>\n",
       "      <td>BERGMAN</td>\n",
       "      <td>GRETCHEN</td>\n",
       "      <td>SPRING VALLEY</td>\n",
       "      <td>CA</td>\n",
       "      <td>91978</td>\n",
       "      <td>A NEW PATH</td>\n",
       "      <td>EXECUTIVE DIRECTOR</td>\n",
       "      <td>False</td>\n",
       "      <td>84.0</td>\n",
       "    </tr>\n",
       "    <tr>\n",
       "      <th>1</th>\n",
       "      <td>1386560</td>\n",
       "      <td>ADULT USE CAMPAIGN FOR PROPOSITION 64; THE</td>\n",
       "      <td>2083796</td>\n",
       "      <td>2016-09-18</td>\n",
       "      <td>KAHLE</td>\n",
       "      <td>MYRNA</td>\n",
       "      <td>SAN DIEGO</td>\n",
       "      <td>CA</td>\n",
       "      <td>92109</td>\n",
       "      <td>NATIONAL SCHOOL DISTRICT</td>\n",
       "      <td>TEACHER</td>\n",
       "      <td>False</td>\n",
       "      <td>35.0</td>\n",
       "    </tr>\n",
       "    <tr>\n",
       "      <th>2</th>\n",
       "      <td>1386560</td>\n",
       "      <td>ADULT USE CAMPAIGN FOR PROPOSITION 64; THE</td>\n",
       "      <td>2083796</td>\n",
       "      <td>2016-07-15</td>\n",
       "      <td>MCDEVITT</td>\n",
       "      <td>LEO</td>\n",
       "      <td>ESCONDIDO</td>\n",
       "      <td>CA</td>\n",
       "      <td>92025</td>\n",
       "      <td>LIFE IONIZERS</td>\n",
       "      <td>SEO/CONTENT MANAGER</td>\n",
       "      <td>False</td>\n",
       "      <td>198.0</td>\n",
       "    </tr>\n",
       "    <tr>\n",
       "      <th>3</th>\n",
       "      <td>1386560</td>\n",
       "      <td>ADULT USE CAMPAIGN FOR PROPOSITION 64; THE</td>\n",
       "      <td>2083796</td>\n",
       "      <td>2016-08-10</td>\n",
       "      <td>WARREN-SAMARIPA</td>\n",
       "      <td>STEPHANIE</td>\n",
       "      <td>SAN DIEGO</td>\n",
       "      <td>CA</td>\n",
       "      <td>92116</td>\n",
       "      <td>STEPHANIE WARREN SAMARIPA</td>\n",
       "      <td>ENTREPRENEUR</td>\n",
       "      <td>False</td>\n",
       "      <td>-50.0</td>\n",
       "    </tr>\n",
       "    <tr>\n",
       "      <th>4</th>\n",
       "      <td>1386560</td>\n",
       "      <td>ADULT USE CAMPAIGN FOR PROPOSITION 64; THE</td>\n",
       "      <td>2083796</td>\n",
       "      <td>2016-07-26</td>\n",
       "      <td>WARREN-SAMARIPA</td>\n",
       "      <td>STEPHANIE</td>\n",
       "      <td>SAN DIEGO</td>\n",
       "      <td>CA</td>\n",
       "      <td>92116</td>\n",
       "      <td>STEPHANIE WARREN SAMARIPA</td>\n",
       "      <td>ENTREPRENEUR</td>\n",
       "      <td>True</td>\n",
       "      <td>50.0</td>\n",
       "    </tr>\n",
       "  </tbody>\n",
       "</table>\n",
       "</div>"
      ],
      "text/plain": [
       "   calaccess_committee_id                              committee_name  \\\n",
       "0                 1386560  ADULT USE CAMPAIGN FOR PROPOSITION 64; THE   \n",
       "1                 1386560  ADULT USE CAMPAIGN FOR PROPOSITION 64; THE   \n",
       "2                 1386560  ADULT USE CAMPAIGN FOR PROPOSITION 64; THE   \n",
       "3                 1386560  ADULT USE CAMPAIGN FOR PROPOSITION 64; THE   \n",
       "4                 1386560  ADULT USE CAMPAIGN FOR PROPOSITION 64; THE   \n",
       "\n",
       "   calaccess_filing_id date_received contributor_lastname  \\\n",
       "0              2083796    2016-09-18              BERGMAN   \n",
       "1              2083796    2016-09-18                KAHLE   \n",
       "2              2083796    2016-07-15             MCDEVITT   \n",
       "3              2083796    2016-08-10      WARREN-SAMARIPA   \n",
       "4              2083796    2016-07-26      WARREN-SAMARIPA   \n",
       "\n",
       "  contributor_firstname contributor_city contributor_state contributor_zip  \\\n",
       "0              GRETCHEN    SPRING VALLEY                CA           91978   \n",
       "1                 MYRNA        SAN DIEGO                CA           92109   \n",
       "2                   LEO        ESCONDIDO                CA           92025   \n",
       "3             STEPHANIE        SAN DIEGO                CA           92116   \n",
       "4             STEPHANIE        SAN DIEGO                CA           92116   \n",
       "\n",
       "        contributor_employer contributor_occupation  \\\n",
       "0                 A NEW PATH     EXECUTIVE DIRECTOR   \n",
       "1   NATIONAL SCHOOL DISTRICT                TEACHER   \n",
       "2              LIFE IONIZERS    SEO/CONTENT MANAGER   \n",
       "3  STEPHANIE WARREN SAMARIPA           ENTREPRENEUR   \n",
       "4  STEPHANIE WARREN SAMARIPA           ENTREPRENEUR   \n",
       "\n",
       "   contributor_is_self_employed  amount  \n",
       "0                         False    84.0  \n",
       "1                         False    35.0  \n",
       "2                         False   198.0  \n",
       "3                         False   -50.0  \n",
       "4                          True    50.0  "
      ]
     },
     "execution_count": 19,
     "metadata": {},
     "output_type": "execute_result"
    }
   ],
   "source": [
    "contribs.head()"
   ]
  },
  {
   "cell_type": "code",
   "execution_count": 20,
   "metadata": {
    "collapsed": true
   },
   "outputs": [
    {
     "data": {
      "text/plain": [
       "PROPOSITION 057 - CRIMINAL SENTENCES. JUVENILE CRIMINAL PROCEEDINGS AND SENTENCING. INITIATIVE CONSTITUTIONAL AMENDMENT AND STATUTE.                           13\n",
       "PROPOSITION 056 - CIGARETTE TAX TO FUND HEALTHCARE, TOBACCO USE PREVENTION, RESEARCH, AND LAW ENFORCEMENT. INITIATIVE CONSTITUTIONAL AMENDMENT AND STATUTE.    12\n",
       "PROPOSITION 064- MARIJUANA LEGALIZATION. INITIATIVE STATUTE.                                                                                                   11\n",
       "PROPOSITION 066- DEATH PENALTY. PROCEDURES. INITIATIVE STATUTE.                                                                                                 9\n",
       "PROPOSITION 055 - TAX EXTENSION TO FUND EDUCATION AND HEALTHCARE. INITIATIVE CONSTITUTIONAL AMENDMENT.                                                          8\n",
       "PROPOSITION 067- REFERENDUM TO OVERTURN BAN ON SINGLE-USE PLASTIC BAGS.                                                                                         7\n",
       "PROPOSITION 062- DEATH PENALTY. INITIATIVE STATUTE.                                                                                                             7\n",
       "PROPOSITION 059- SB 254 (CHAPTER 20, STATUTES OF 2016), ALLEN. CAMPAIGN FINANCE: VOTER INSTRUCTION                                                              6\n",
       "PROPOSITION 053 - REVENUE BONDS. STATEWIDE VOTER APPROVAL. INITIATIVE CONSTITUTIONAL AMENDMENT.                                                                 4\n",
       "PROPOSITION 054 - LEGISLATURE. LEGISLATION AND PROCEEDINGS. INITIATIVE CONSTITUTIONAL AMENDMENT AND STATUTE.                                                    4\n",
       "PROPOSITION 058 - SB 1174 (CHAPTER 753, STATUTES OF 2014), LARA. ENGLISH LANGUAGE EDUCATION                                                                     4\n",
       "PROPOSITION 063- FIREARMS. AMMUNITION SALES. INTIATIVE STATUTE.                                                                                                 4\n",
       "PROPOSITION 051 - SCHOOL BONDS. FUNDING FOR K-12 SCHOOL AND COMMUNITY COLLEGE FACILITIES. INITIATIVE STATUTORY AMENDMENT.                                       4\n",
       "PROPOSITION 052 - STATE FEES ON HOSPITALS. FEDERAL MEDI-CAL MATCHING FUNDS. INITIATIVE STATUTORY AND CONSTITUTIONAL AMENDMENT.                                  3\n",
       "PROPOSITION 061- STATE PRESCRIPTION DRUG PURCHASES. PRICING STANDARDS. INITIATIVE STATUTE.                                                                      3\n",
       "PROPOSITION 060- ADULT FILMS. CONDOMS. HEALTH REQUIREMENTS. INITIATIVE STATUTE.                                                                                 2\n",
       "PROPOSITION 065- CARRY-OUT BAGS. CHARGES. INITIATIVE STATUTE.                                                                                                   1\n",
       "Name: prop_name, dtype: int64"
      ]
     },
     "execution_count": 20,
     "metadata": {},
     "output_type": "execute_result"
    }
   ],
   "source": [
    "props.prop_name.value_counts()"
   ]
  },
  {
   "cell_type": "code",
   "execution_count": 21,
   "metadata": {
    "collapsed": true
   },
   "outputs": [],
   "source": [
    "prop = props[props.prop_name == 'PROPOSITION 064- MARIJUANA LEGALIZATION. INITIATIVE STATUTE.']"
   ]
  },
  {
   "cell_type": "code",
   "execution_count": 22,
   "metadata": {
    "collapsed": true
   },
   "outputs": [
    {
     "data": {
      "text/html": [
       "<div>\n",
       "<style>\n",
       "    .dataframe thead tr:only-child th {\n",
       "        text-align: right;\n",
       "    }\n",
       "\n",
       "    .dataframe thead th {\n",
       "        text-align: left;\n",
       "    }\n",
       "\n",
       "    .dataframe tbody tr th {\n",
       "        vertical-align: top;\n",
       "    }\n",
       "</style>\n",
       "<table border=\"1\" class=\"dataframe\">\n",
       "  <thead>\n",
       "    <tr style=\"text-align: right;\">\n",
       "      <th></th>\n",
       "      <th>ocd_prop_id</th>\n",
       "      <th>calaccess_prop_id</th>\n",
       "      <th>ccdc_prop_id</th>\n",
       "      <th>prop_name</th>\n",
       "      <th>ccdc_committee_id</th>\n",
       "      <th>calaccess_committee_id</th>\n",
       "      <th>committee_name</th>\n",
       "      <th>committee_position</th>\n",
       "    </tr>\n",
       "  </thead>\n",
       "  <tbody>\n",
       "    <tr>\n",
       "      <th>74</th>\n",
       "      <td>ocd-contest/232cb72c-1b11-4293-b4e2-a181e80d172e</td>\n",
       "      <td>1381868</td>\n",
       "      <td>83</td>\n",
       "      <td>PROPOSITION 064- MARIJUANA LEGALIZATION. INITI...</td>\n",
       "      <td>456</td>\n",
       "      <td>1381808</td>\n",
       "      <td>YES ON 64, CALIFORNIANS TO CONTROL, REGULATE A...</td>\n",
       "      <td>SUPPORT</td>\n",
       "    </tr>\n",
       "    <tr>\n",
       "      <th>75</th>\n",
       "      <td>ocd-contest/232cb72c-1b11-4293-b4e2-a181e80d172e</td>\n",
       "      <td>1381868</td>\n",
       "      <td>83</td>\n",
       "      <td>PROPOSITION 064- MARIJUANA LEGALIZATION. INITI...</td>\n",
       "      <td>457</td>\n",
       "      <td>1382525</td>\n",
       "      <td>NEW APPROACH PAC (MPO)</td>\n",
       "      <td>SUPPORT</td>\n",
       "    </tr>\n",
       "    <tr>\n",
       "      <th>76</th>\n",
       "      <td>ocd-contest/232cb72c-1b11-4293-b4e2-a181e80d172e</td>\n",
       "      <td>1381868</td>\n",
       "      <td>83</td>\n",
       "      <td>PROPOSITION 064- MARIJUANA LEGALIZATION. INITI...</td>\n",
       "      <td>458</td>\n",
       "      <td>1376077</td>\n",
       "      <td>CALIFORNIANS FOR SENSIBLE REFORM, SPONSORED BY...</td>\n",
       "      <td>SUPPORT</td>\n",
       "    </tr>\n",
       "    <tr>\n",
       "      <th>77</th>\n",
       "      <td>ocd-contest/232cb72c-1b11-4293-b4e2-a181e80d172e</td>\n",
       "      <td>1381868</td>\n",
       "      <td>83</td>\n",
       "      <td>PROPOSITION 064- MARIJUANA LEGALIZATION. INITI...</td>\n",
       "      <td>459</td>\n",
       "      <td>1382568</td>\n",
       "      <td>PUBLIC AND MENTAL HEALTH ADVOCATES AGAINST 64,...</td>\n",
       "      <td>OPPOSE</td>\n",
       "    </tr>\n",
       "    <tr>\n",
       "      <th>78</th>\n",
       "      <td>ocd-contest/232cb72c-1b11-4293-b4e2-a181e80d172e</td>\n",
       "      <td>1381868</td>\n",
       "      <td>83</td>\n",
       "      <td>PROPOSITION 064- MARIJUANA LEGALIZATION. INITI...</td>\n",
       "      <td>460</td>\n",
       "      <td>1371855</td>\n",
       "      <td>MARIJUANA POLICY PROJECT OF CALIFORNIA, YES ON 64</td>\n",
       "      <td>SUPPORT</td>\n",
       "    </tr>\n",
       "    <tr>\n",
       "      <th>79</th>\n",
       "      <td>ocd-contest/232cb72c-1b11-4293-b4e2-a181e80d172e</td>\n",
       "      <td>1381868</td>\n",
       "      <td>83</td>\n",
       "      <td>PROPOSITION 064- MARIJUANA LEGALIZATION. INITI...</td>\n",
       "      <td>461</td>\n",
       "      <td>1343793</td>\n",
       "      <td>CALIFORNIANS FOR RESPONSIBLE MARIJUANA REFORM,...</td>\n",
       "      <td>SUPPORT</td>\n",
       "    </tr>\n",
       "    <tr>\n",
       "      <th>80</th>\n",
       "      <td>ocd-contest/232cb72c-1b11-4293-b4e2-a181e80d172e</td>\n",
       "      <td>1381868</td>\n",
       "      <td>83</td>\n",
       "      <td>PROPOSITION 064- MARIJUANA LEGALIZATION. INITI...</td>\n",
       "      <td>462</td>\n",
       "      <td>1386560</td>\n",
       "      <td>ADULT USE CAMPAIGN FOR PROPOSITION 64; THE</td>\n",
       "      <td>SUPPORT</td>\n",
       "    </tr>\n",
       "    <tr>\n",
       "      <th>81</th>\n",
       "      <td>ocd-contest/232cb72c-1b11-4293-b4e2-a181e80d172e</td>\n",
       "      <td>1381868</td>\n",
       "      <td>83</td>\n",
       "      <td>PROPOSITION 064- MARIJUANA LEGALIZATION. INITI...</td>\n",
       "      <td>463</td>\n",
       "      <td>1387789</td>\n",
       "      <td>SAM ACTION, INC., A COMMITTEE AGAINST PROPOSIT...</td>\n",
       "      <td>OPPOSE</td>\n",
       "    </tr>\n",
       "    <tr>\n",
       "      <th>82</th>\n",
       "      <td>ocd-contest/232cb72c-1b11-4293-b4e2-a181e80d172e</td>\n",
       "      <td>1381868</td>\n",
       "      <td>83</td>\n",
       "      <td>PROPOSITION 064- MARIJUANA LEGALIZATION. INITI...</td>\n",
       "      <td>464</td>\n",
       "      <td>1385506</td>\n",
       "      <td>DRUG POLICY ACTION - NON PROFIT 501C4, YES ON ...</td>\n",
       "      <td>SUPPORT</td>\n",
       "    </tr>\n",
       "    <tr>\n",
       "      <th>83</th>\n",
       "      <td>ocd-contest/232cb72c-1b11-4293-b4e2-a181e80d172e</td>\n",
       "      <td>1381868</td>\n",
       "      <td>83</td>\n",
       "      <td>PROPOSITION 064- MARIJUANA LEGALIZATION. INITI...</td>\n",
       "      <td>465</td>\n",
       "      <td>1385745</td>\n",
       "      <td>FUND FOR POLICY REFORM (NONPROFIT 501(C)(4))</td>\n",
       "      <td>SUPPORT</td>\n",
       "    </tr>\n",
       "    <tr>\n",
       "      <th>84</th>\n",
       "      <td>ocd-contest/232cb72c-1b11-4293-b4e2-a181e80d172e</td>\n",
       "      <td>1381868</td>\n",
       "      <td>83</td>\n",
       "      <td>PROPOSITION 064- MARIJUANA LEGALIZATION. INITI...</td>\n",
       "      <td>466</td>\n",
       "      <td>1390962</td>\n",
       "      <td>MOMS STRONG AGAINST PROP 64</td>\n",
       "      <td>OPPOSE</td>\n",
       "    </tr>\n",
       "  </tbody>\n",
       "</table>\n",
       "</div>"
      ],
      "text/plain": [
       "                                         ocd_prop_id  calaccess_prop_id  \\\n",
       "74  ocd-contest/232cb72c-1b11-4293-b4e2-a181e80d172e            1381868   \n",
       "75  ocd-contest/232cb72c-1b11-4293-b4e2-a181e80d172e            1381868   \n",
       "76  ocd-contest/232cb72c-1b11-4293-b4e2-a181e80d172e            1381868   \n",
       "77  ocd-contest/232cb72c-1b11-4293-b4e2-a181e80d172e            1381868   \n",
       "78  ocd-contest/232cb72c-1b11-4293-b4e2-a181e80d172e            1381868   \n",
       "79  ocd-contest/232cb72c-1b11-4293-b4e2-a181e80d172e            1381868   \n",
       "80  ocd-contest/232cb72c-1b11-4293-b4e2-a181e80d172e            1381868   \n",
       "81  ocd-contest/232cb72c-1b11-4293-b4e2-a181e80d172e            1381868   \n",
       "82  ocd-contest/232cb72c-1b11-4293-b4e2-a181e80d172e            1381868   \n",
       "83  ocd-contest/232cb72c-1b11-4293-b4e2-a181e80d172e            1381868   \n",
       "84  ocd-contest/232cb72c-1b11-4293-b4e2-a181e80d172e            1381868   \n",
       "\n",
       "    ccdc_prop_id                                          prop_name  \\\n",
       "74            83  PROPOSITION 064- MARIJUANA LEGALIZATION. INITI...   \n",
       "75            83  PROPOSITION 064- MARIJUANA LEGALIZATION. INITI...   \n",
       "76            83  PROPOSITION 064- MARIJUANA LEGALIZATION. INITI...   \n",
       "77            83  PROPOSITION 064- MARIJUANA LEGALIZATION. INITI...   \n",
       "78            83  PROPOSITION 064- MARIJUANA LEGALIZATION. INITI...   \n",
       "79            83  PROPOSITION 064- MARIJUANA LEGALIZATION. INITI...   \n",
       "80            83  PROPOSITION 064- MARIJUANA LEGALIZATION. INITI...   \n",
       "81            83  PROPOSITION 064- MARIJUANA LEGALIZATION. INITI...   \n",
       "82            83  PROPOSITION 064- MARIJUANA LEGALIZATION. INITI...   \n",
       "83            83  PROPOSITION 064- MARIJUANA LEGALIZATION. INITI...   \n",
       "84            83  PROPOSITION 064- MARIJUANA LEGALIZATION. INITI...   \n",
       "\n",
       "    ccdc_committee_id  calaccess_committee_id  \\\n",
       "74                456                 1381808   \n",
       "75                457                 1382525   \n",
       "76                458                 1376077   \n",
       "77                459                 1382568   \n",
       "78                460                 1371855   \n",
       "79                461                 1343793   \n",
       "80                462                 1386560   \n",
       "81                463                 1387789   \n",
       "82                464                 1385506   \n",
       "83                465                 1385745   \n",
       "84                466                 1390962   \n",
       "\n",
       "                                       committee_name committee_position  \n",
       "74  YES ON 64, CALIFORNIANS TO CONTROL, REGULATE A...            SUPPORT  \n",
       "75                             NEW APPROACH PAC (MPO)            SUPPORT  \n",
       "76  CALIFORNIANS FOR SENSIBLE REFORM, SPONSORED BY...            SUPPORT  \n",
       "77  PUBLIC AND MENTAL HEALTH ADVOCATES AGAINST 64,...             OPPOSE  \n",
       "78  MARIJUANA POLICY PROJECT OF CALIFORNIA, YES ON 64            SUPPORT  \n",
       "79  CALIFORNIANS FOR RESPONSIBLE MARIJUANA REFORM,...            SUPPORT  \n",
       "80         ADULT USE CAMPAIGN FOR PROPOSITION 64; THE            SUPPORT  \n",
       "81  SAM ACTION, INC., A COMMITTEE AGAINST PROPOSIT...             OPPOSE  \n",
       "82  DRUG POLICY ACTION - NON PROFIT 501C4, YES ON ...            SUPPORT  \n",
       "83       FUND FOR POLICY REFORM (NONPROFIT 501(C)(4))            SUPPORT  \n",
       "84                        MOMS STRONG AGAINST PROP 64             OPPOSE  "
      ]
     },
     "execution_count": 22,
     "metadata": {},
     "output_type": "execute_result"
    }
   ],
   "source": [
    "prop"
   ]
  },
  {
   "cell_type": "code",
   "execution_count": 23,
   "metadata": {
    "collapsed": true
   },
   "outputs": [
    {
     "data": {
      "text/html": [
       "<div>\n",
       "<style>\n",
       "    .dataframe thead tr:only-child th {\n",
       "        text-align: right;\n",
       "    }\n",
       "\n",
       "    .dataframe thead th {\n",
       "        text-align: left;\n",
       "    }\n",
       "\n",
       "    .dataframe tbody tr th {\n",
       "        vertical-align: top;\n",
       "    }\n",
       "</style>\n",
       "<table border=\"1\" class=\"dataframe\">\n",
       "  <thead>\n",
       "    <tr style=\"text-align: right;\">\n",
       "      <th></th>\n",
       "      <th>ocd_prop_id</th>\n",
       "      <th>calaccess_prop_id</th>\n",
       "      <th>ccdc_prop_id</th>\n",
       "      <th>prop_name</th>\n",
       "      <th>ccdc_committee_id</th>\n",
       "      <th>calaccess_committee_id</th>\n",
       "      <th>committee_name</th>\n",
       "      <th>committee_position</th>\n",
       "    </tr>\n",
       "  </thead>\n",
       "  <tbody>\n",
       "    <tr>\n",
       "      <th>74</th>\n",
       "      <td>ocd-contest/232cb72c-1b11-4293-b4e2-a181e80d172e</td>\n",
       "      <td>1381868</td>\n",
       "      <td>83</td>\n",
       "      <td>PROPOSITION 064- MARIJUANA LEGALIZATION. INITI...</td>\n",
       "      <td>456</td>\n",
       "      <td>1381808</td>\n",
       "      <td>YES ON 64, CALIFORNIANS TO CONTROL, REGULATE A...</td>\n",
       "      <td>SUPPORT</td>\n",
       "    </tr>\n",
       "    <tr>\n",
       "      <th>75</th>\n",
       "      <td>ocd-contest/232cb72c-1b11-4293-b4e2-a181e80d172e</td>\n",
       "      <td>1381868</td>\n",
       "      <td>83</td>\n",
       "      <td>PROPOSITION 064- MARIJUANA LEGALIZATION. INITI...</td>\n",
       "      <td>457</td>\n",
       "      <td>1382525</td>\n",
       "      <td>NEW APPROACH PAC (MPO)</td>\n",
       "      <td>SUPPORT</td>\n",
       "    </tr>\n",
       "    <tr>\n",
       "      <th>76</th>\n",
       "      <td>ocd-contest/232cb72c-1b11-4293-b4e2-a181e80d172e</td>\n",
       "      <td>1381868</td>\n",
       "      <td>83</td>\n",
       "      <td>PROPOSITION 064- MARIJUANA LEGALIZATION. INITI...</td>\n",
       "      <td>458</td>\n",
       "      <td>1376077</td>\n",
       "      <td>CALIFORNIANS FOR SENSIBLE REFORM, SPONSORED BY...</td>\n",
       "      <td>SUPPORT</td>\n",
       "    </tr>\n",
       "    <tr>\n",
       "      <th>77</th>\n",
       "      <td>ocd-contest/232cb72c-1b11-4293-b4e2-a181e80d172e</td>\n",
       "      <td>1381868</td>\n",
       "      <td>83</td>\n",
       "      <td>PROPOSITION 064- MARIJUANA LEGALIZATION. INITI...</td>\n",
       "      <td>459</td>\n",
       "      <td>1382568</td>\n",
       "      <td>PUBLIC AND MENTAL HEALTH ADVOCATES AGAINST 64,...</td>\n",
       "      <td>OPPOSE</td>\n",
       "    </tr>\n",
       "    <tr>\n",
       "      <th>78</th>\n",
       "      <td>ocd-contest/232cb72c-1b11-4293-b4e2-a181e80d172e</td>\n",
       "      <td>1381868</td>\n",
       "      <td>83</td>\n",
       "      <td>PROPOSITION 064- MARIJUANA LEGALIZATION. INITI...</td>\n",
       "      <td>460</td>\n",
       "      <td>1371855</td>\n",
       "      <td>MARIJUANA POLICY PROJECT OF CALIFORNIA, YES ON 64</td>\n",
       "      <td>SUPPORT</td>\n",
       "    </tr>\n",
       "  </tbody>\n",
       "</table>\n",
       "</div>"
      ],
      "text/plain": [
       "                                         ocd_prop_id  calaccess_prop_id  \\\n",
       "74  ocd-contest/232cb72c-1b11-4293-b4e2-a181e80d172e            1381868   \n",
       "75  ocd-contest/232cb72c-1b11-4293-b4e2-a181e80d172e            1381868   \n",
       "76  ocd-contest/232cb72c-1b11-4293-b4e2-a181e80d172e            1381868   \n",
       "77  ocd-contest/232cb72c-1b11-4293-b4e2-a181e80d172e            1381868   \n",
       "78  ocd-contest/232cb72c-1b11-4293-b4e2-a181e80d172e            1381868   \n",
       "\n",
       "    ccdc_prop_id                                          prop_name  \\\n",
       "74            83  PROPOSITION 064- MARIJUANA LEGALIZATION. INITI...   \n",
       "75            83  PROPOSITION 064- MARIJUANA LEGALIZATION. INITI...   \n",
       "76            83  PROPOSITION 064- MARIJUANA LEGALIZATION. INITI...   \n",
       "77            83  PROPOSITION 064- MARIJUANA LEGALIZATION. INITI...   \n",
       "78            83  PROPOSITION 064- MARIJUANA LEGALIZATION. INITI...   \n",
       "\n",
       "    ccdc_committee_id  calaccess_committee_id  \\\n",
       "74                456                 1381808   \n",
       "75                457                 1382525   \n",
       "76                458                 1376077   \n",
       "77                459                 1382568   \n",
       "78                460                 1371855   \n",
       "\n",
       "                                       committee_name committee_position  \n",
       "74  YES ON 64, CALIFORNIANS TO CONTROL, REGULATE A...            SUPPORT  \n",
       "75                             NEW APPROACH PAC (MPO)            SUPPORT  \n",
       "76  CALIFORNIANS FOR SENSIBLE REFORM, SPONSORED BY...            SUPPORT  \n",
       "77  PUBLIC AND MENTAL HEALTH ADVOCATES AGAINST 64,...             OPPOSE  \n",
       "78  MARIJUANA POLICY PROJECT OF CALIFORNIA, YES ON 64            SUPPORT  "
      ]
     },
     "execution_count": 23,
     "metadata": {},
     "output_type": "execute_result"
    }
   ],
   "source": [
    "prop.head()"
   ]
  },
  {
   "cell_type": "code",
   "execution_count": 24,
   "metadata": {
    "collapsed": true
   },
   "outputs": [
    {
     "name": "stdout",
     "output_type": "stream",
     "text": [
      "<class 'pandas.core.frame.DataFrame'>\n",
      "Int64Index: 11 entries, 74 to 84\n",
      "Data columns (total 8 columns):\n",
      "ocd_prop_id               11 non-null object\n",
      "calaccess_prop_id         11 non-null int64\n",
      "ccdc_prop_id              11 non-null int64\n",
      "prop_name                 11 non-null object\n",
      "ccdc_committee_id         11 non-null int64\n",
      "calaccess_committee_id    11 non-null int64\n",
      "committee_name            11 non-null object\n",
      "committee_position        11 non-null object\n",
      "dtypes: int64(4), object(4)\n",
      "memory usage: 792.0+ bytes\n"
     ]
    }
   ],
   "source": [
    "prop.info()"
   ]
  },
  {
   "cell_type": "code",
   "execution_count": 25,
   "metadata": {
    "collapsed": true
   },
   "outputs": [
    {
     "name": "stdout",
     "output_type": "stream",
     "text": [
      "<class 'pandas.core.frame.DataFrame'>\n",
      "RangeIndex: 56379 entries, 0 to 56378\n",
      "Data columns (total 13 columns):\n",
      "calaccess_committee_id          56379 non-null int64\n",
      "committee_name                  56379 non-null object\n",
      "calaccess_filing_id             56379 non-null int64\n",
      "date_received                   56379 non-null object\n",
      "contributor_lastname            56375 non-null object\n",
      "contributor_firstname           53411 non-null object\n",
      "contributor_city                56369 non-null object\n",
      "contributor_state               56363 non-null object\n",
      "contributor_zip                 56366 non-null object\n",
      "contributor_employer            48572 non-null object\n",
      "contributor_occupation          53273 non-null object\n",
      "contributor_is_self_employed    56379 non-null bool\n",
      "amount                          56379 non-null float64\n",
      "dtypes: bool(1), float64(1), int64(2), object(9)\n",
      "memory usage: 5.2+ MB\n"
     ]
    }
   ],
   "source": [
    "contribs.info()"
   ]
  },
  {
   "cell_type": "code",
   "execution_count": 26,
   "metadata": {
    "collapsed": true
   },
   "outputs": [
    {
     "name": "stdout",
     "output_type": "stream",
     "text": [
      "<class 'pandas.core.frame.DataFrame'>\n",
      "RangeIndex: 102 entries, 0 to 101\n",
      "Data columns (total 8 columns):\n",
      "ocd_prop_id               102 non-null object\n",
      "calaccess_prop_id         102 non-null int64\n",
      "ccdc_prop_id              102 non-null int64\n",
      "prop_name                 102 non-null object\n",
      "ccdc_committee_id         102 non-null int64\n",
      "calaccess_committee_id    102 non-null int64\n",
      "committee_name            102 non-null object\n",
      "committee_position        102 non-null object\n",
      "dtypes: int64(4), object(4)\n",
      "memory usage: 6.4+ KB\n"
     ]
    }
   ],
   "source": [
    "props.info()"
   ]
  },
  {
   "cell_type": "code",
   "execution_count": 27,
   "metadata": {
    "collapsed": true
   },
   "outputs": [],
   "source": [
    "merged = pd.merge(prop, contribs, on='calaccess_committee_id')"
   ]
  },
  {
   "cell_type": "code",
   "execution_count": 28,
   "metadata": {
    "collapsed": true
   },
   "outputs": [
    {
     "name": "stdout",
     "output_type": "stream",
     "text": [
      "<class 'pandas.core.frame.DataFrame'>\n",
      "Int64Index: 860 entries, 0 to 859\n",
      "Data columns (total 20 columns):\n",
      "ocd_prop_id                     860 non-null object\n",
      "calaccess_prop_id               860 non-null int64\n",
      "ccdc_prop_id                    860 non-null int64\n",
      "prop_name                       860 non-null object\n",
      "ccdc_committee_id               860 non-null int64\n",
      "calaccess_committee_id          860 non-null int64\n",
      "committee_name_x                860 non-null object\n",
      "committee_position              860 non-null object\n",
      "committee_name_y                860 non-null object\n",
      "calaccess_filing_id             860 non-null int64\n",
      "date_received                   860 non-null object\n",
      "contributor_lastname            860 non-null object\n",
      "contributor_firstname           750 non-null object\n",
      "contributor_city                860 non-null object\n",
      "contributor_state               860 non-null object\n",
      "contributor_zip                 860 non-null object\n",
      "contributor_employer            657 non-null object\n",
      "contributor_occupation          742 non-null object\n",
      "contributor_is_self_employed    860 non-null bool\n",
      "amount                          860 non-null float64\n",
      "dtypes: bool(1), float64(1), int64(5), object(13)\n",
      "memory usage: 135.2+ KB\n"
     ]
    }
   ],
   "source": [
    "merged.info()"
   ]
  },
  {
   "cell_type": "code",
   "execution_count": 29,
   "metadata": {
    "collapsed": true
   },
   "outputs": [
    {
     "name": "stdout",
     "output_type": "stream",
     "text": [
      "<class 'pandas.core.frame.DataFrame'>\n",
      "Int64Index: 860 entries, 0 to 859\n",
      "Data columns (total 20 columns):\n",
      "ocd_prop_id                     860 non-null object\n",
      "calaccess_prop_id               860 non-null int64\n",
      "ccdc_prop_id                    860 non-null int64\n",
      "prop_name                       860 non-null object\n",
      "ccdc_committee_id               860 non-null int64\n",
      "calaccess_committee_id          860 non-null int64\n",
      "committee_name_x                860 non-null object\n",
      "committee_position              860 non-null object\n",
      "committee_name_y                860 non-null object\n",
      "calaccess_filing_id             860 non-null int64\n",
      "date_received                   860 non-null object\n",
      "contributor_lastname            860 non-null object\n",
      "contributor_firstname           750 non-null object\n",
      "contributor_city                860 non-null object\n",
      "contributor_state               860 non-null object\n",
      "contributor_zip                 860 non-null object\n",
      "contributor_employer            657 non-null object\n",
      "contributor_occupation          742 non-null object\n",
      "contributor_is_self_employed    860 non-null bool\n",
      "amount                          860 non-null float64\n",
      "dtypes: bool(1), float64(1), int64(5), object(13)\n",
      "memory usage: 135.2+ KB\n"
     ]
    }
   ],
   "source": [
    "merged.info()"
   ]
  },
  {
   "cell_type": "code",
   "execution_count": 30,
   "metadata": {
    "collapsed": true
   },
   "outputs": [
    {
     "data": {
      "text/html": [
       "<div>\n",
       "<style>\n",
       "    .dataframe thead tr:only-child th {\n",
       "        text-align: right;\n",
       "    }\n",
       "\n",
       "    .dataframe thead th {\n",
       "        text-align: left;\n",
       "    }\n",
       "\n",
       "    .dataframe tbody tr th {\n",
       "        vertical-align: top;\n",
       "    }\n",
       "</style>\n",
       "<table border=\"1\" class=\"dataframe\">\n",
       "  <thead>\n",
       "    <tr style=\"text-align: right;\">\n",
       "      <th></th>\n",
       "      <th>ocd_prop_id</th>\n",
       "      <th>calaccess_prop_id</th>\n",
       "      <th>ccdc_prop_id</th>\n",
       "      <th>prop_name</th>\n",
       "      <th>ccdc_committee_id</th>\n",
       "      <th>calaccess_committee_id</th>\n",
       "      <th>committee_name_x</th>\n",
       "      <th>committee_position</th>\n",
       "      <th>committee_name_y</th>\n",
       "      <th>calaccess_filing_id</th>\n",
       "      <th>date_received</th>\n",
       "      <th>contributor_lastname</th>\n",
       "      <th>contributor_firstname</th>\n",
       "      <th>contributor_city</th>\n",
       "      <th>contributor_state</th>\n",
       "      <th>contributor_zip</th>\n",
       "      <th>contributor_employer</th>\n",
       "      <th>contributor_occupation</th>\n",
       "      <th>contributor_is_self_employed</th>\n",
       "      <th>amount</th>\n",
       "    </tr>\n",
       "  </thead>\n",
       "  <tbody>\n",
       "    <tr>\n",
       "      <th>0</th>\n",
       "      <td>ocd-contest/232cb72c-1b11-4293-b4e2-a181e80d172e</td>\n",
       "      <td>1381868</td>\n",
       "      <td>83</td>\n",
       "      <td>PROPOSITION 064- MARIJUANA LEGALIZATION. INITI...</td>\n",
       "      <td>456</td>\n",
       "      <td>1381808</td>\n",
       "      <td>YES ON 64, CALIFORNIANS TO CONTROL, REGULATE A...</td>\n",
       "      <td>SUPPORT</td>\n",
       "      <td>YES ON 64, CALIFORNIANS TO CONTROL, REGULATE A...</td>\n",
       "      <td>2038581</td>\n",
       "      <td>2016-02-04</td>\n",
       "      <td>BRADEN QUIGLEY</td>\n",
       "      <td>LAURA</td>\n",
       "      <td>SACRAMENTO</td>\n",
       "      <td>CA</td>\n",
       "      <td>95825</td>\n",
       "      <td>LBQ STRATEGIES</td>\n",
       "      <td>CONSULTANT</td>\n",
       "      <td>False</td>\n",
       "      <td>100.0</td>\n",
       "    </tr>\n",
       "    <tr>\n",
       "      <th>1</th>\n",
       "      <td>ocd-contest/232cb72c-1b11-4293-b4e2-a181e80d172e</td>\n",
       "      <td>1381868</td>\n",
       "      <td>83</td>\n",
       "      <td>PROPOSITION 064- MARIJUANA LEGALIZATION. INITI...</td>\n",
       "      <td>456</td>\n",
       "      <td>1381808</td>\n",
       "      <td>YES ON 64, CALIFORNIANS TO CONTROL, REGULATE A...</td>\n",
       "      <td>SUPPORT</td>\n",
       "      <td>YES ON 64, CALIFORNIANS TO CONTROL, REGULATE A...</td>\n",
       "      <td>2038581</td>\n",
       "      <td>2016-01-05</td>\n",
       "      <td>CALIFORNIANS FOR SENSIBLE REFORM, SPONSORED BY...</td>\n",
       "      <td>NaN</td>\n",
       "      <td>IRVINE</td>\n",
       "      <td>CA</td>\n",
       "      <td>92618</td>\n",
       "      <td>NaN</td>\n",
       "      <td>NaN</td>\n",
       "      <td>False</td>\n",
       "      <td>250000.0</td>\n",
       "    </tr>\n",
       "    <tr>\n",
       "      <th>2</th>\n",
       "      <td>ocd-contest/232cb72c-1b11-4293-b4e2-a181e80d172e</td>\n",
       "      <td>1381868</td>\n",
       "      <td>83</td>\n",
       "      <td>PROPOSITION 064- MARIJUANA LEGALIZATION. INITI...</td>\n",
       "      <td>456</td>\n",
       "      <td>1381808</td>\n",
       "      <td>YES ON 64, CALIFORNIANS TO CONTROL, REGULATE A...</td>\n",
       "      <td>SUPPORT</td>\n",
       "      <td>YES ON 64, CALIFORNIANS TO CONTROL, REGULATE A...</td>\n",
       "      <td>2038581</td>\n",
       "      <td>2016-01-29</td>\n",
       "      <td>CALIFORNIANS FOR SENSIBLE REFORM, SPONSORED BY...</td>\n",
       "      <td>NaN</td>\n",
       "      <td>IRVINE</td>\n",
       "      <td>CA</td>\n",
       "      <td>92618</td>\n",
       "      <td>NaN</td>\n",
       "      <td>NaN</td>\n",
       "      <td>False</td>\n",
       "      <td>250000.0</td>\n",
       "    </tr>\n",
       "    <tr>\n",
       "      <th>3</th>\n",
       "      <td>ocd-contest/232cb72c-1b11-4293-b4e2-a181e80d172e</td>\n",
       "      <td>1381868</td>\n",
       "      <td>83</td>\n",
       "      <td>PROPOSITION 064- MARIJUANA LEGALIZATION. INITI...</td>\n",
       "      <td>456</td>\n",
       "      <td>1381808</td>\n",
       "      <td>YES ON 64, CALIFORNIANS TO CONTROL, REGULATE A...</td>\n",
       "      <td>SUPPORT</td>\n",
       "      <td>YES ON 64, CALIFORNIANS TO CONTROL, REGULATE A...</td>\n",
       "      <td>2038581</td>\n",
       "      <td>2016-03-28</td>\n",
       "      <td>CALIFORNIANS FOR SENSIBLE REFORM, SPONSORED BY...</td>\n",
       "      <td>NaN</td>\n",
       "      <td>IRVINE</td>\n",
       "      <td>CA</td>\n",
       "      <td>92618</td>\n",
       "      <td>NaN</td>\n",
       "      <td>NaN</td>\n",
       "      <td>False</td>\n",
       "      <td>250000.0</td>\n",
       "    </tr>\n",
       "    <tr>\n",
       "      <th>4</th>\n",
       "      <td>ocd-contest/232cb72c-1b11-4293-b4e2-a181e80d172e</td>\n",
       "      <td>1381868</td>\n",
       "      <td>83</td>\n",
       "      <td>PROPOSITION 064- MARIJUANA LEGALIZATION. INITI...</td>\n",
       "      <td>456</td>\n",
       "      <td>1381808</td>\n",
       "      <td>YES ON 64, CALIFORNIANS TO CONTROL, REGULATE A...</td>\n",
       "      <td>SUPPORT</td>\n",
       "      <td>YES ON 64, CALIFORNIANS TO CONTROL, REGULATE A...</td>\n",
       "      <td>2038581</td>\n",
       "      <td>2016-01-05</td>\n",
       "      <td>DRUG POLICY ACTION</td>\n",
       "      <td>NaN</td>\n",
       "      <td>NEW YORK</td>\n",
       "      <td>NY</td>\n",
       "      <td>10001</td>\n",
       "      <td>NaN</td>\n",
       "      <td>NaN</td>\n",
       "      <td>False</td>\n",
       "      <td>250000.0</td>\n",
       "    </tr>\n",
       "  </tbody>\n",
       "</table>\n",
       "</div>"
      ],
      "text/plain": [
       "                                        ocd_prop_id  calaccess_prop_id  \\\n",
       "0  ocd-contest/232cb72c-1b11-4293-b4e2-a181e80d172e            1381868   \n",
       "1  ocd-contest/232cb72c-1b11-4293-b4e2-a181e80d172e            1381868   \n",
       "2  ocd-contest/232cb72c-1b11-4293-b4e2-a181e80d172e            1381868   \n",
       "3  ocd-contest/232cb72c-1b11-4293-b4e2-a181e80d172e            1381868   \n",
       "4  ocd-contest/232cb72c-1b11-4293-b4e2-a181e80d172e            1381868   \n",
       "\n",
       "   ccdc_prop_id                                          prop_name  \\\n",
       "0            83  PROPOSITION 064- MARIJUANA LEGALIZATION. INITI...   \n",
       "1            83  PROPOSITION 064- MARIJUANA LEGALIZATION. INITI...   \n",
       "2            83  PROPOSITION 064- MARIJUANA LEGALIZATION. INITI...   \n",
       "3            83  PROPOSITION 064- MARIJUANA LEGALIZATION. INITI...   \n",
       "4            83  PROPOSITION 064- MARIJUANA LEGALIZATION. INITI...   \n",
       "\n",
       "   ccdc_committee_id  calaccess_committee_id  \\\n",
       "0                456                 1381808   \n",
       "1                456                 1381808   \n",
       "2                456                 1381808   \n",
       "3                456                 1381808   \n",
       "4                456                 1381808   \n",
       "\n",
       "                                    committee_name_x committee_position  \\\n",
       "0  YES ON 64, CALIFORNIANS TO CONTROL, REGULATE A...            SUPPORT   \n",
       "1  YES ON 64, CALIFORNIANS TO CONTROL, REGULATE A...            SUPPORT   \n",
       "2  YES ON 64, CALIFORNIANS TO CONTROL, REGULATE A...            SUPPORT   \n",
       "3  YES ON 64, CALIFORNIANS TO CONTROL, REGULATE A...            SUPPORT   \n",
       "4  YES ON 64, CALIFORNIANS TO CONTROL, REGULATE A...            SUPPORT   \n",
       "\n",
       "                                    committee_name_y  calaccess_filing_id  \\\n",
       "0  YES ON 64, CALIFORNIANS TO CONTROL, REGULATE A...              2038581   \n",
       "1  YES ON 64, CALIFORNIANS TO CONTROL, REGULATE A...              2038581   \n",
       "2  YES ON 64, CALIFORNIANS TO CONTROL, REGULATE A...              2038581   \n",
       "3  YES ON 64, CALIFORNIANS TO CONTROL, REGULATE A...              2038581   \n",
       "4  YES ON 64, CALIFORNIANS TO CONTROL, REGULATE A...              2038581   \n",
       "\n",
       "  date_received                               contributor_lastname  \\\n",
       "0    2016-02-04                                     BRADEN QUIGLEY   \n",
       "1    2016-01-05  CALIFORNIANS FOR SENSIBLE REFORM, SPONSORED BY...   \n",
       "2    2016-01-29  CALIFORNIANS FOR SENSIBLE REFORM, SPONSORED BY...   \n",
       "3    2016-03-28  CALIFORNIANS FOR SENSIBLE REFORM, SPONSORED BY...   \n",
       "4    2016-01-05                                 DRUG POLICY ACTION   \n",
       "\n",
       "  contributor_firstname contributor_city contributor_state contributor_zip  \\\n",
       "0                 LAURA       SACRAMENTO                CA           95825   \n",
       "1                   NaN           IRVINE                CA           92618   \n",
       "2                   NaN           IRVINE                CA           92618   \n",
       "3                   NaN           IRVINE                CA           92618   \n",
       "4                   NaN         NEW YORK                NY           10001   \n",
       "\n",
       "  contributor_employer contributor_occupation  contributor_is_self_employed  \\\n",
       "0       LBQ STRATEGIES             CONSULTANT                         False   \n",
       "1                  NaN                    NaN                         False   \n",
       "2                  NaN                    NaN                         False   \n",
       "3                  NaN                    NaN                         False   \n",
       "4                  NaN                    NaN                         False   \n",
       "\n",
       "     amount  \n",
       "0     100.0  \n",
       "1  250000.0  \n",
       "2  250000.0  \n",
       "3  250000.0  \n",
       "4  250000.0  "
      ]
     },
     "execution_count": 30,
     "metadata": {},
     "output_type": "execute_result"
    }
   ],
   "source": [
    "merged.head()"
   ]
  },
  {
   "cell_type": "code",
   "execution_count": 31,
   "metadata": {
    "collapsed": true
   },
   "outputs": [
    {
     "data": {
      "text/plain": [
       "35177017.640000001"
      ]
     },
     "execution_count": 31,
     "metadata": {},
     "output_type": "execute_result"
    }
   ],
   "source": [
    "merged.amount.sum()"
   ]
  },
  {
   "cell_type": "code",
   "execution_count": 32,
   "metadata": {
    "collapsed": true
   },
   "outputs": [
    {
     "data": {
      "text/plain": [
       "SUPPORT    762\n",
       "OPPOSE      98\n",
       "Name: committee_position, dtype: int64"
      ]
     },
     "execution_count": 32,
     "metadata": {},
     "output_type": "execute_result"
    }
   ],
   "source": [
    "merged.committee_position.value_counts()"
   ]
  },
  {
   "cell_type": "code",
   "execution_count": 33,
   "metadata": {
    "collapsed": true
   },
   "outputs": [],
   "source": [
    "support = merged[merged.committee_position == 'SUPPORT']"
   ]
  },
  {
   "cell_type": "code",
   "execution_count": 34,
   "metadata": {
    "collapsed": true
   },
   "outputs": [],
   "source": [
    "oppose = merged[merged.committee_position == 'OPPOSE']"
   ]
  },
  {
   "cell_type": "code",
   "execution_count": 61,
   "metadata": {
    "collapsed": true
   },
   "outputs": [
    {
     "data": {
      "text/plain": [
       "2501211.6400000001"
      ]
     },
     "execution_count": 61,
     "metadata": {},
     "output_type": "execute_result"
    }
   ],
   "source": [
    "oppose.amount.sum()"
   ]
  },
  {
   "cell_type": "code",
   "execution_count": 62,
   "metadata": {
    "collapsed": true
   },
   "outputs": [
    {
     "data": {
      "text/plain": [
       "32675806.0"
      ]
     },
     "execution_count": 62,
     "metadata": {},
     "output_type": "execute_result"
    }
   ],
   "source": [
    "support.amount.sum()"
   ]
  },
  {
   "cell_type": "code",
   "execution_count": 63,
   "metadata": {
    "collapsed": true
   },
   "outputs": [
    {
     "data": {
      "text/plain": [
       "0.92889642704798669"
      ]
     },
     "execution_count": 63,
     "metadata": {},
     "output_type": "execute_result"
    }
   ],
   "source": [
    "support.amount.sum() / merged.amount.sum()"
   ]
  },
  {
   "cell_type": "code",
   "execution_count": 65,
   "metadata": {
    "collapsed": true
   },
   "outputs": [],
   "source": [
    "bem = pd.read_csv('/Users/elinsteen/bem.csv')"
   ]
  },
  {
   "cell_type": "markdown",
   "metadata": {},
   "source": [
    "bem.columns = df.iloc[0]"
   ]
  },
  {
   "cell_type": "code",
   "execution_count": 67,
   "metadata": {},
   "outputs": [
    {
     "data": {
      "text/html": [
       "<div>\n",
       "<style>\n",
       "    .dataframe thead tr:only-child th {\n",
       "        text-align: right;\n",
       "    }\n",
       "\n",
       "    .dataframe thead th {\n",
       "        text-align: left;\n",
       "    }\n",
       "\n",
       "    .dataframe tbody tr th {\n",
       "        vertical-align: top;\n",
       "    }\n",
       "</style>\n",
       "<table border=\"1\" class=\"dataframe\">\n",
       "  <thead>\n",
       "    <tr style=\"text-align: right;\">\n",
       "      <th></th>\n",
       "      <th>Unnamed: 0</th>\n",
       "      <th>Unnamed: 1</th>\n",
       "    </tr>\n",
       "  </thead>\n",
       "  <tbody>\n",
       "    <tr>\n",
       "      <th>0</th>\n",
       "      <td>Kommun</td>\n",
       "      <td>Personal per plats</td>\n",
       "    </tr>\n",
       "    <tr>\n",
       "      <th>1</th>\n",
       "      <td>Aneby</td>\n",
       "      <td>-</td>\n",
       "    </tr>\n",
       "    <tr>\n",
       "      <th>2</th>\n",
       "      <td>Borlänge</td>\n",
       "      <td>-</td>\n",
       "    </tr>\n",
       "    <tr>\n",
       "      <th>3</th>\n",
       "      <td>Burlöv</td>\n",
       "      <td>-</td>\n",
       "    </tr>\n",
       "    <tr>\n",
       "      <th>4</th>\n",
       "      <td>Dorotea</td>\n",
       "      <td>-</td>\n",
       "    </tr>\n",
       "  </tbody>\n",
       "</table>\n",
       "</div>"
      ],
      "text/plain": [
       "  Unnamed: 0          Unnamed: 1\n",
       "0     Kommun  Personal per plats\n",
       "1      Aneby                   -\n",
       "2   Borlänge                   -\n",
       "3     Burlöv                   -\n",
       "4    Dorotea                   -"
      ]
     },
     "execution_count": 67,
     "metadata": {},
     "output_type": "execute_result"
    }
   ],
   "source": [
    "bem.head()"
   ]
  },
  {
   "cell_type": "code",
   "execution_count": 68,
   "metadata": {},
   "outputs": [],
   "source": [
    "bem.columns = bem.iloc[0]"
   ]
  },
  {
   "cell_type": "code",
   "execution_count": 69,
   "metadata": {
    "collapsed": true
   },
   "outputs": [
    {
     "data": {
      "text/html": [
       "<div>\n",
       "<style>\n",
       "    .dataframe thead tr:only-child th {\n",
       "        text-align: right;\n",
       "    }\n",
       "\n",
       "    .dataframe thead th {\n",
       "        text-align: left;\n",
       "    }\n",
       "\n",
       "    .dataframe tbody tr th {\n",
       "        vertical-align: top;\n",
       "    }\n",
       "</style>\n",
       "<table border=\"1\" class=\"dataframe\">\n",
       "  <thead>\n",
       "    <tr style=\"text-align: right;\">\n",
       "      <th></th>\n",
       "      <th>Kommun</th>\n",
       "      <th>Personal per plats</th>\n",
       "    </tr>\n",
       "  </thead>\n",
       "  <tbody>\n",
       "    <tr>\n",
       "      <th>0</th>\n",
       "      <td>Kommun</td>\n",
       "      <td>Personal per plats</td>\n",
       "    </tr>\n",
       "    <tr>\n",
       "      <th>1</th>\n",
       "      <td>Aneby</td>\n",
       "      <td>-</td>\n",
       "    </tr>\n",
       "    <tr>\n",
       "      <th>2</th>\n",
       "      <td>Borlänge</td>\n",
       "      <td>-</td>\n",
       "    </tr>\n",
       "    <tr>\n",
       "      <th>3</th>\n",
       "      <td>Burlöv</td>\n",
       "      <td>-</td>\n",
       "    </tr>\n",
       "    <tr>\n",
       "      <th>4</th>\n",
       "      <td>Dorotea</td>\n",
       "      <td>-</td>\n",
       "    </tr>\n",
       "  </tbody>\n",
       "</table>\n",
       "</div>"
      ],
      "text/plain": [
       "0    Kommun  Personal per plats\n",
       "0    Kommun  Personal per plats\n",
       "1     Aneby                   -\n",
       "2  Borlänge                   -\n",
       "3    Burlöv                   -\n",
       "4   Dorotea                   -"
      ]
     },
     "execution_count": 69,
     "metadata": {},
     "output_type": "execute_result"
    }
   ],
   "source": [
    "bem.head()"
   ]
  },
  {
   "cell_type": "code",
   "execution_count": null,
   "metadata": {},
   "outputs": [],
   "source": []
  }
 ],
 "metadata": {
  "kernelspec": {
   "display_name": "Python 2",
   "language": "python",
   "name": "python2"
  },
  "language_info": {
   "codemirror_mode": {
    "name": "ipython",
    "version": 2
   },
   "file_extension": ".py",
   "mimetype": "text/x-python",
   "name": "python",
   "nbconvert_exporter": "python",
   "pygments_lexer": "ipython2",
   "version": "2.7.10"
  }
 },
 "nbformat": 4,
 "nbformat_minor": 2
}
